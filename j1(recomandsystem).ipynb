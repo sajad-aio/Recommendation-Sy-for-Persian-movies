{
 "cells": [
  {
   "cell_type": "code",
   "execution_count": 57,
   "id": "17414d93",
   "metadata": {},
   "outputs": [],
   "source": [
    "import pandas as pd\n",
    "import numpy as np"
   ]
  },
  {
   "cell_type": "code",
   "execution_count": 58,
   "id": "b5b62403",
   "metadata": {},
   "outputs": [],
   "source": [
    "df = pd.read_csv('data2.csv')"
   ]
  },
  {
   "cell_type": "code",
   "execution_count": 59,
   "id": "aba9b439",
   "metadata": {},
   "outputs": [
    {
     "data": {
      "text/html": [
       "<div>\n",
       "<style scoped>\n",
       "    .dataframe tbody tr th:only-of-type {\n",
       "        vertical-align: middle;\n",
       "    }\n",
       "\n",
       "    .dataframe tbody tr th {\n",
       "        vertical-align: top;\n",
       "    }\n",
       "\n",
       "    .dataframe thead th {\n",
       "        text-align: right;\n",
       "    }\n",
       "</style>\n",
       "<table border=\"1\" class=\"dataframe\">\n",
       "  <thead>\n",
       "    <tr style=\"text-align: right;\">\n",
       "      <th></th>\n",
       "      <th>Name</th>\n",
       "      <th>Actors</th>\n",
       "      <th>Score</th>\n",
       "      <th>About</th>\n",
       "      <th>Genre</th>\n",
       "      <th>Crew</th>\n",
       "      <th>Image</th>\n",
       "      <th>Voted</th>\n",
       "      <th>Type</th>\n",
       "    </tr>\n",
       "  </thead>\n",
       "  <tbody>\n",
       "    <tr>\n",
       "      <th>0</th>\n",
       "      <td>عطش</td>\n",
       "      <td>[' بهرام رادان', ' فریبرز عرب نیا', ' شهرام حق...</td>\n",
       "      <td>0.88</td>\n",
       "      <td>NaN</td>\n",
       "      <td>['اکشن', 'ماجراجویی']</td>\n",
       "      <td>[' محمدحسین فرح بخش', ' عبدالله علیخانی', ' فر...</td>\n",
       "      <td>https://static.cdn.asset.filimo.com/flmt/mov_9...</td>\n",
       "      <td>761</td>\n",
       "      <td>فیلم</td>\n",
       "    </tr>\n",
       "    <tr>\n",
       "      <th>1</th>\n",
       "      <td>یکی از میان همه</td>\n",
       "      <td>[' سروش صحت', ' رامین راستاد', ' آزاده صمدی', ...</td>\n",
       "      <td>0.69</td>\n",
       "      <td>نیلوفر و نرگس بدون اطلاع همسرانشان مجبور به سف...</td>\n",
       "      <td>['اکشن', 'هیجان انگیز']</td>\n",
       "      <td>[' ابراهیم شیبانی']</td>\n",
       "      <td>https://static.cdn.asset.filimo.com/flmt/mov_1...</td>\n",
       "      <td>280</td>\n",
       "      <td>فیلم</td>\n",
       "    </tr>\n",
       "    <tr>\n",
       "      <th>2</th>\n",
       "      <td>جاده جنایت</td>\n",
       "      <td>[' لعیا زنگنه', ' کاوه آرمیده', ' حشمت الله آر...</td>\n",
       "      <td>0.76</td>\n",
       "      <td>وقتی کتایون نگرانی و اضطراب بیش از حد شوهرش – ...</td>\n",
       "      <td>['اکشن', 'هیجان انگیز']</td>\n",
       "      <td>[' جهانبخش ایمانی', ' ذبیح الله رحمانی', ' آرز...</td>\n",
       "      <td>https://static.cdn.asset.filimo.com/flmt/mov_7...</td>\n",
       "      <td>530</td>\n",
       "      <td>فیلم</td>\n",
       "    </tr>\n",
       "    <tr>\n",
       "      <th>3</th>\n",
       "      <td>ساوالان</td>\n",
       "      <td>[' مجید مظفری', ' محمد برسوزیان', ' فردوس کاوی...</td>\n",
       "      <td>0.9</td>\n",
       "      <td>روستای ساوالان هرسال توسط گروهی راهزن غارت می ...</td>\n",
       "      <td>['اکشن', 'ماجراجویی']</td>\n",
       "      <td>[' یدالله صمدی', ' سیفعلی سیدکوثری نژاد', ' ید...</td>\n",
       "      <td>https://static.cdn.asset.filimo.com/flmt/mov_6...</td>\n",
       "      <td>493</td>\n",
       "      <td>فیلم</td>\n",
       "    </tr>\n",
       "    <tr>\n",
       "      <th>4</th>\n",
       "      <td>پوزه چرمی</td>\n",
       "      <td>[' ندا مقصودی', ' وحید جباری']</td>\n",
       "      <td>0.68</td>\n",
       "      <td>مردی برای رسیدن به اهدافش با پس انداز همسرش دس...</td>\n",
       "      <td>['فیلم تئاتر', 'خانوادگی']</td>\n",
       "      <td>[' محمدعلی زمانی', ' هلموت کراوزر', ' محمد مهد...</td>\n",
       "      <td>https://static.cdn.asset.filimo.com/flmt/mov_2...</td>\n",
       "      <td>182</td>\n",
       "      <td>فیلم</td>\n",
       "    </tr>\n",
       "  </tbody>\n",
       "</table>\n",
       "</div>"
      ],
      "text/plain": [
       "               Name                                             Actors Score  \\\n",
       "0               عطش  [' بهرام رادان', ' فریبرز عرب نیا', ' شهرام حق...  0.88   \n",
       "1   یکی از میان همه  [' سروش صحت', ' رامین راستاد', ' آزاده صمدی', ...  0.69   \n",
       "2        جاده جنایت  [' لعیا زنگنه', ' کاوه آرمیده', ' حشمت الله آر...  0.76   \n",
       "3           ساوالان  [' مجید مظفری', ' محمد برسوزیان', ' فردوس کاوی...   0.9   \n",
       "4         پوزه چرمی                     [' ندا مقصودی', ' وحید جباری']  0.68   \n",
       "\n",
       "                                               About  \\\n",
       "0                                                NaN   \n",
       "1  نیلوفر و نرگس بدون اطلاع همسرانشان مجبور به سف...   \n",
       "2  وقتی کتایون نگرانی و اضطراب بیش از حد شوهرش – ...   \n",
       "3  روستای ساوالان هرسال توسط گروهی راهزن غارت می ...   \n",
       "4  مردی برای رسیدن به اهدافش با پس انداز همسرش دس...   \n",
       "\n",
       "                        Genre  \\\n",
       "0       ['اکشن', 'ماجراجویی']   \n",
       "1     ['اکشن', 'هیجان انگیز']   \n",
       "2     ['اکشن', 'هیجان انگیز']   \n",
       "3       ['اکشن', 'ماجراجویی']   \n",
       "4  ['فیلم تئاتر', 'خانوادگی']   \n",
       "\n",
       "                                                Crew  \\\n",
       "0  [' محمدحسین فرح بخش', ' عبدالله علیخانی', ' فر...   \n",
       "1                                [' ابراهیم شیبانی']   \n",
       "2  [' جهانبخش ایمانی', ' ذبیح الله رحمانی', ' آرز...   \n",
       "3  [' یدالله صمدی', ' سیفعلی سیدکوثری نژاد', ' ید...   \n",
       "4  [' محمدعلی زمانی', ' هلموت کراوزر', ' محمد مهد...   \n",
       "\n",
       "                                               Image Voted  Type  \n",
       "0  https://static.cdn.asset.filimo.com/flmt/mov_9...   761  فیلم  \n",
       "1  https://static.cdn.asset.filimo.com/flmt/mov_1...   280  فیلم  \n",
       "2  https://static.cdn.asset.filimo.com/flmt/mov_7...   530  فیلم  \n",
       "3  https://static.cdn.asset.filimo.com/flmt/mov_6...   493  فیلم  \n",
       "4  https://static.cdn.asset.filimo.com/flmt/mov_2...   182  فیلم  "
      ]
     },
     "execution_count": 59,
     "metadata": {},
     "output_type": "execute_result"
    }
   ],
   "source": [
    "df.head()"
   ]
  },
  {
   "cell_type": "code",
   "execution_count": 71,
   "id": "8ea52c4e",
   "metadata": {},
   "outputs": [
    {
     "data": {
      "text/plain": [
       "0       https://static.cdn.asset.filimo.com/flmt/mov_9...\n",
       "1       https://static.cdn.asset.filimo.com/flmt/mov_1...\n",
       "2       https://static.cdn.asset.filimo.com/flmt/mov_7...\n",
       "3       https://static.cdn.asset.filimo.com/flmt/mov_6...\n",
       "4       https://static.cdn.asset.filimo.com/flmt/mov_2...\n",
       "                              ...                        \n",
       "1405    https://static.cdn.asset.filimo.com/flmt/mov_3...\n",
       "1406    https://static.cdn.asset.filimo.com/flmt/mov_2...\n",
       "1407    https://static.cdn.asset.filimo.com/flmt/mov_7...\n",
       "1408    https://static.cdn.asset.filimo.com/flmt/mov_5...\n",
       "1409    https://static.cdn.asset.filimo.com/flmt/mov_5...\n",
       "Name: Image, Length: 1410, dtype: object"
      ]
     },
     "execution_count": 71,
     "metadata": {},
     "output_type": "execute_result"
    }
   ],
   "source": [
    "df['Image']"
   ]
  },
  {
   "cell_type": "code",
   "execution_count": 60,
   "id": "c889f1f2",
   "metadata": {},
   "outputs": [
    {
     "data": {
      "text/plain": [
       "Name        0\n",
       "Actors      0\n",
       "Score       0\n",
       "About     522\n",
       "Genre       0\n",
       "Crew        0\n",
       "Image       0\n",
       "Voted       2\n",
       "Type        0\n",
       "dtype: int64"
      ]
     },
     "execution_count": 60,
     "metadata": {},
     "output_type": "execute_result"
    }
   ],
   "source": [
    "df.isna().sum()"
   ]
  },
  {
   "cell_type": "code",
   "execution_count": 61,
   "id": "66f0a874",
   "metadata": {},
   "outputs": [],
   "source": [
    "df['About']=df['About'].fillna(\"\")"
   ]
  },
  {
   "cell_type": "code",
   "execution_count": 62,
   "id": "6e2ff5b0",
   "metadata": {},
   "outputs": [
    {
     "data": {
      "text/plain": [
       "Name      0\n",
       "Actors    0\n",
       "Score     0\n",
       "About     0\n",
       "Genre     0\n",
       "Crew      0\n",
       "Image     0\n",
       "Voted     2\n",
       "Type      0\n",
       "dtype: int64"
      ]
     },
     "execution_count": 62,
     "metadata": {},
     "output_type": "execute_result"
    }
   ],
   "source": [
    "df.isna().sum()"
   ]
  },
  {
   "cell_type": "code",
   "execution_count": 63,
   "id": "57b3e896",
   "metadata": {},
   "outputs": [],
   "source": [
    "from sklearn.feature_extraction.text import TfidfVectorizer\n",
    "from sklearn.metrics.pairwise import cosine_similarity"
   ]
  },
  {
   "cell_type": "code",
   "execution_count": 64,
   "id": "80f9bbb9",
   "metadata": {},
   "outputs": [],
   "source": [
    "text = input('چه فیلمی دوست داری؟')"
   ]
  },
  {
   "cell_type": "code",
   "execution_count": 65,
   "id": "4533f947",
   "metadata": {},
   "outputs": [],
   "source": [
    "vectorizer = TfidfVectorizer(stop_words='english')\n",
    "about2num = vectorizer.fit_transform(df['About'])\n",
    "text2num = vectorizer.transform([text])"
   ]
  },
  {
   "cell_type": "code",
   "execution_count": 66,
   "id": "8e13d34d",
   "metadata": {},
   "outputs": [],
   "source": [
    "similarity = cosine_similarity(text2num,about2num).flatten()"
   ]
  },
  {
   "cell_type": "code",
   "execution_count": 67,
   "id": "39e305d7",
   "metadata": {},
   "outputs": [
    {
     "name": "stdout",
     "output_type": "stream",
     "text": [
      "فیلم  زندانی ها\n",
      "امتیاز 0.8\n",
      "توضیح دانشجوی جوانی برای انجام پایان نامه اش قصد دارد بر روی تعدادی زندانی تحقیق کند.\n",
      "فیلم  تسویه حساب\n",
      "امتیاز 0.91\n",
      "توضیح چهار زن زندانی خشن ، در زندان نقشه ای می کشند که پس از آزاد شدن اجرایش کنند...\n",
      "فیلم  افراطی ها\n",
      "امتیاز 0.88\n",
      "توضیح فیلم کمدی افراطی داستان  چند مرد  زندانی است که  ارتباطاتی با هم در زندان پیدا میکنند و پس از آزادی از زندان هر کدام از آنها درگیر اتفاقات جالب و خاصی\n",
      "فیلم  زمانی دیگر\n",
      "امتیاز 0.81\n",
      "توضیح قدیر کارگر یک کارخانه مواد شیمیایی است که بعد از اعتراضات کارگری زندانی شده است. او بعد از یکسال به طور ناگهانی از زندان آزاد می شود و وقتی به خانه بر\n",
      "فیلم  دام\n",
      "امتیاز 0.85\n",
      "توضیح در فیلم دام ، احمد جوانی است ماهیگیر که به اتهام قتل معاون شیلات مورد تعقیب قرار می گیرد، او زادگاهش را ترک و به تهران فرار می کند. در تهران، او ناخوا\n"
     ]
    }
   ],
   "source": [
    "top_movie = similarity.argsort()[-5:][::-1]\n",
    "for i in top_movie:\n",
    "    print(f\"فیلم {df.iloc[i]['Name']}\")\n",
    "    print(f\"امتیاز {df.iloc[i]['Score']}\")\n",
    "    print(f\"توضیح {df.iloc[i]['About'][:150]}\")\n"
   ]
  },
  {
   "cell_type": "code",
   "execution_count": null,
   "id": "b593b293",
   "metadata": {},
   "outputs": [],
   "source": []
  }
 ],
 "metadata": {
  "kernelspec": {
   "display_name": "Python 3",
   "language": "python",
   "name": "python3"
  },
  "language_info": {
   "codemirror_mode": {
    "name": "ipython",
    "version": 3
   },
   "file_extension": ".py",
   "mimetype": "text/x-python",
   "name": "python",
   "nbconvert_exporter": "python",
   "pygments_lexer": "ipython3",
   "version": "3.8.8"
  }
 },
 "nbformat": 4,
 "nbformat_minor": 5
}
